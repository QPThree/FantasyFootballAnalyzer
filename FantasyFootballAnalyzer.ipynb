{
  "nbformat": 4,
  "nbformat_minor": 0,
  "metadata": {
    "colab": {
      "name": "FantasyFootballAnalyzer.ipynb",
      "provenance": [],
      "collapsed_sections": [],
      "authorship_tag": "ABX9TyNpW8MpFstZWEOUp2BYF4/a",
      "include_colab_link": true
    },
    "kernelspec": {
      "name": "python3",
      "display_name": "Python 3"
    },
    "language_info": {
      "name": "python"
    }
  },
  "cells": [
    {
      "cell_type": "markdown",
      "metadata": {
        "id": "view-in-github",
        "colab_type": "text"
      },
      "source": [
        "<a href=\"https://colab.research.google.com/github/QPThree/FantasyFootballAnalyzer/blob/main/FantasyFootballAnalyzer.ipynb\" target=\"_parent\"><img src=\"https://colab.research.google.com/assets/colab-badge.svg\" alt=\"Open In Colab\"/></a>"
      ]
    },
    {
      "cell_type": "code",
      "metadata": {
        "id": "CjnhGoaQPH3Q"
      },
      "source": [
        "import pandas as pd\n"
      ],
      "execution_count": 31,
      "outputs": []
    },
    {
      "cell_type": "code",
      "metadata": {
        "id": "6rk_YxkQ5FY5"
      },
      "source": [
        "#Creat data frames.  main and then each positions respective\n",
        "df = pd.read_csv('/content/PlayerStats2020.csv')\n",
        "rb_df = df.loc[df['Pos'] == 'RB'] #RB DataFrame\n",
        "wr_df = df.loc[df['Pos'] =='WR'] #WR DataFrame\n",
        "\n"
      ],
      "execution_count": 59,
      "outputs": []
    },
    {
      "cell_type": "code",
      "metadata": {
        "id": "yumB9wCU8eh9"
      },
      "source": [
        "fantasy_scoring_weights = {\n",
        "    'RushingYds' : 0.1,\n",
        "    'ReceivingYds' : 0.1,\n",
        "    'ReceivingTD' : 6,\n",
        "    'RushingTD' : 6,\n",
        "    'FumblesLost' : -2,\n",
        "    'Rec' : 1,  # PPR, can be changed based on league settings\n",
        "}\n",
        "\n",
        "def get_fantasy_points(row):\n",
        "  g = row['G']\n",
        "\n",
        "  fantasy_points = sum(\n",
        "      [row[column] * weight for column, weight in fantasy_scoring_weights.items()]\n",
        "  )\n",
        "\n",
        "  return fantasy_points / g\n",
        "#creates columns for fantasy points per game in positional dataframes\n",
        "rb_df['FantasyPoints/G'] = rb_df.apply(get_fantasy_points, axis = 1)\n",
        "wr_df['FantasyPoints/G'] = wr_df.apply(get_fantasy_points, axis = 1)"
      ],
      "execution_count": null,
      "outputs": []
    },
    {
      "cell_type": "code",
      "metadata": {
        "colab": {
          "base_uri": "https://localhost:8080/"
        },
        "id": "A1lT1__7_inv",
        "outputId": "d8723a56-95b6-49b9-fa10-d472f26e6603"
      },
      "source": [
        "for col in rb_df.columns:\n",
        "  print(col)"
      ],
      "execution_count": 43,
      "outputs": [
        {
          "output_type": "stream",
          "text": [
            "Player\n",
            "Tm\n",
            "Pos\n",
            "G\n",
            "GS\n",
            "Tgt\n",
            "Rec\n",
            "PassingYds\n",
            "PassingTD\n",
            "PassingAtt\n",
            "RushingYds\n",
            "RushingTD\n",
            "RushingAtt\n",
            "ReceivingYds\n",
            "ReceivingTD\n",
            "FantasyPoints\n",
            "Int\n",
            "Fumbles\n",
            "FumblesLost\n",
            "FantasyPoints/G\n"
          ],
          "name": "stdout"
        }
      ]
    },
    {
      "cell_type": "code",
      "metadata": {
        "id": "aRvnB8Qq-rEi"
      },
      "source": [
        "#delete unnessecary columns in positional data frames \n",
        "rb_df.drop(['GS', 'PassingYds', 'PassingTD', 'PassingAtt', 'Int'], axis = 1, inplace = True)\n",
        "wr_df.drop(['GS', 'PassingYds', 'PassingTD', 'PassingAtt', 'Int'], axis = 1, inplace = True)\n"
      ],
      "execution_count": null,
      "outputs": []
    },
    {
      "cell_type": "code",
      "metadata": {
        "id": "shKpWfW35hWP"
      },
      "source": [
        "choice = input('What position would you like to view?')\n",
        "stat_col = input('Which state column would you like to see?')\n",
        "head_nums = input('How many players would you like to see?')\n",
        "head_nums = int(head_nums)\n",
        "\n",
        "#########################Next we will add diplsay options so user can see what stat columns they can choose from....e.g. rushing attempts, rushing td, receptions, etc. \n",
        "if choice == '1':\n",
        "  print(rb_df[['Player', str(stat_col)]].head(head_nums))\n"
      ],
      "execution_count": null,
      "outputs": []
    }
  ]
}