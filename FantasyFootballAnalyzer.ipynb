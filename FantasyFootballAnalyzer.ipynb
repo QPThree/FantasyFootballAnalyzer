{
  "nbformat": 4,
  "nbformat_minor": 0,
  "metadata": {
    "colab": {
      "name": "FantasyFootballAnalyzer.ipynb",
      "provenance": [],
      "collapsed_sections": [],
      "authorship_tag": "ABX9TyNQ2UlO7KnwB5PsuE3dpzaZ",
      "include_colab_link": true
    },
    "kernelspec": {
      "name": "python3",
      "display_name": "Python 3"
    },
    "language_info": {
      "name": "python"
    }
  },
  "cells": [
    {
      "cell_type": "markdown",
      "metadata": {
        "id": "view-in-github",
        "colab_type": "text"
      },
      "source": [
        "<a href=\"https://colab.research.google.com/github/QPThree/FantasyFootballAnalyzer/blob/main/FantasyFootballAnalyzer.ipynb\" target=\"_parent\"><img src=\"https://colab.research.google.com/assets/colab-badge.svg\" alt=\"Open In Colab\"/></a>"
      ]
    },
    {
      "cell_type": "code",
      "metadata": {
        "id": "CjnhGoaQPH3Q",
        "colab": {
          "base_uri": "https://localhost:8080/",
          "height": 51
        },
        "outputId": "4870f75f-6d65-4efa-f119-eb4e14713a27"
      },
      "source": [
        "import pandas as pd\n",
        "import seaborn as sns\n",
        "from matplotlib import pyplot as plt\n",
        "\n",
        "sns.set_style('whitegrid')\n",
        "plt.figure(figsize = (10,10))"
      ],
      "execution_count": 12,
      "outputs": [
        {
          "output_type": "execute_result",
          "data": {
            "text/plain": [
              "<Figure size 720x720 with 0 Axes>"
            ]
          },
          "metadata": {
            "tags": []
          },
          "execution_count": 12
        },
        {
          "output_type": "display_data",
          "data": {
            "text/plain": [
              "<Figure size 720x720 with 0 Axes>"
            ]
          },
          "metadata": {
            "tags": []
          }
        }
      ]
    },
    {
      "cell_type": "code",
      "metadata": {
        "id": "6rk_YxkQ5FY5"
      },
      "source": [
        "#Creat data frames.  main and then each positions respective\n",
        "df = pd.read_csv('/content/PlayerStats2020.csv')\n",
        "rb_df = df.loc[df['Pos'] == 'RB'] #RB DataFrame\n",
        "wr_df = df.loc[df['Pos'] =='WR'] #WR DataFrame\n",
        "te_df = df.loc[df['Pos'] == 'TE'] #TE Dataframe\n",
        "\n"
      ],
      "execution_count": 13,
      "outputs": []
    },
    {
      "cell_type": "code",
      "metadata": {
        "id": "yumB9wCU8eh9",
        "colab": {
          "base_uri": "https://localhost:8080/"
        },
        "outputId": "ad61ef58-30be-4365-d4c4-27d19a1d420c"
      },
      "source": [
        "fantasy_scoring_weights = {\n",
        "    'RushingYds' : 0.1,\n",
        "    'ReceivingYds' : 0.1,\n",
        "    'ReceivingTD' : 6,\n",
        "    'RushingTD' : 6,\n",
        "    'FumblesLost' : -2,\n",
        "    'Rec' : 1,  # PPR, can be changed based on league settings\n",
        "}\n",
        "\n",
        "def get_fantasy_points(row):\n",
        "  g = row['G']\n",
        "\n",
        "  fantasy_points = sum(\n",
        "      [row[column] * weight for column, weight in fantasy_scoring_weights.items()]\n",
        "  )\n",
        "\n",
        "  return fantasy_points / g\n",
        "\n",
        "def rb_plot_as_scatter(xaxis, yaxis):\n",
        "  sns.scatterplot(rb_df[str(xaxis)], rb_df[str(yaxis)])\n",
        "\n",
        "def wr_plot_as_scatter(xaxis, yaxis):\n",
        "  sns.scatterplot(wr_df[str(xaxis)], wr_df[str(yaxis)])\n",
        "\n",
        "def te_plot_as_scatter(xaxis, yaxis):\n",
        "  sns.scatterplot(te_df[str(xaxis)], te_df[str(yaxis)])\n",
        "\n",
        "def print_menu(menu):\n",
        "  i = 0\n",
        "  for stat in menu: \n",
        "        print(str(i)+': '+stat)\n",
        "        i = i +1\n",
        "#creates columns for fantasy points per game in positional dataframes\n",
        "rb_df['FantasyPoints/G'] = rb_df.apply(get_fantasy_points, axis = 1)\n",
        "wr_df['FantasyPoints/G'] = wr_df.apply(get_fantasy_points, axis = 1)\n",
        "te_df['FantasyPoints/G'] = te_df.apply(get_fantasy_points, axis = 1)"
      ],
      "execution_count": 14,
      "outputs": [
        {
          "output_type": "stream",
          "text": [
            "/usr/local/lib/python3.7/dist-packages/ipykernel_launcher.py:34: SettingWithCopyWarning: \n",
            "A value is trying to be set on a copy of a slice from a DataFrame.\n",
            "Try using .loc[row_indexer,col_indexer] = value instead\n",
            "\n",
            "See the caveats in the documentation: https://pandas.pydata.org/pandas-docs/stable/user_guide/indexing.html#returning-a-view-versus-a-copy\n",
            "/usr/local/lib/python3.7/dist-packages/ipykernel_launcher.py:35: SettingWithCopyWarning: \n",
            "A value is trying to be set on a copy of a slice from a DataFrame.\n",
            "Try using .loc[row_indexer,col_indexer] = value instead\n",
            "\n",
            "See the caveats in the documentation: https://pandas.pydata.org/pandas-docs/stable/user_guide/indexing.html#returning-a-view-versus-a-copy\n",
            "/usr/local/lib/python3.7/dist-packages/ipykernel_launcher.py:36: SettingWithCopyWarning: \n",
            "A value is trying to be set on a copy of a slice from a DataFrame.\n",
            "Try using .loc[row_indexer,col_indexer] = value instead\n",
            "\n",
            "See the caveats in the documentation: https://pandas.pydata.org/pandas-docs/stable/user_guide/indexing.html#returning-a-view-versus-a-copy\n"
          ],
          "name": "stderr"
        }
      ]
    },
    {
      "cell_type": "code",
      "metadata": {
        "colab": {
          "base_uri": "https://localhost:8080/"
        },
        "id": "aRvnB8Qq-rEi",
        "outputId": "67a4a83a-dc2e-49dc-a022-b3532cc93340"
      },
      "source": [
        "#delete unnessecary columns in positional data frames \n",
        "rb_df.drop(['GS', 'PassingYds', 'PassingTD', 'PassingAtt', 'Int'], axis = 1, inplace = True)\n",
        "wr_df.drop(['GS', 'PassingYds', 'PassingTD', 'PassingAtt', 'Int'], axis = 1, inplace = True)\n",
        "te_df.drop(['GS', 'PassingYds', 'PassingTD', 'PassingAtt', 'Int'], axis = 1, inplace = True)\n"
      ],
      "execution_count": 15,
      "outputs": [
        {
          "output_type": "stream",
          "text": [
            "/usr/local/lib/python3.7/dist-packages/pandas/core/frame.py:4174: SettingWithCopyWarning: \n",
            "A value is trying to be set on a copy of a slice from a DataFrame\n",
            "\n",
            "See the caveats in the documentation: https://pandas.pydata.org/pandas-docs/stable/user_guide/indexing.html#returning-a-view-versus-a-copy\n",
            "  errors=errors,\n"
          ],
          "name": "stderr"
        }
      ]
    },
    {
      "cell_type": "code",
      "metadata": {
        "id": "shKpWfW35hWP"
      },
      "source": [
        "# Lists for menus\n",
        "stat_menu = ('')\n",
        "\n",
        "stat_menu_all = ('Tm',\n",
        "'Pos',\n",
        "'Age',\n",
        "'G',\n",
        "'GS',\n",
        "'Tgt',\n",
        "'Rec',\n",
        "'PassingYds',\n",
        "'PassingTD',\n",
        "'PassingAtt',\n",
        "'RushingYds',\n",
        "'RushingTD',\n",
        "'RushingAtt',\n",
        "'ReceivingYds',\n",
        "'ReceivingTD',\n",
        "'FantasyPoints',\n",
        "'Int',\n",
        "'Fumbles',\n",
        "'FumblesLost',\n",
        "'FantasyPoints/G')\n",
        "\n",
        "non_qb_stat_menu = ('Tm',\n",
        "'Age',\n",
        "'G',\n",
        "'Tgt',\n",
        "'Rec',\n",
        "'RushingYds',\n",
        "'RushingTD',\n",
        "'RushingAtt',\n",
        "'ReceivingYds',\n",
        "'ReceivingTD',\n",
        "'FantasyPoints',\n",
        "'Fumbles',\n",
        "'FumblesLost',\n",
        "'FantasyPoints/G')\n",
        "\n",
        "pos_menu = (\n",
        "    'Quit',\n",
        "    'RB',\n",
        "    'WR',\n",
        "    'TE',\n",
        "    'QB',\n",
        "    'Scatter Plot'\n",
        ")\n",
        "\n",
        "choice = True\n",
        "while choice:\n",
        "\n",
        "  print_menu(pos_menu)\n",
        "  choice = input('What position would you like to view?')\n",
        "  \n",
        "  if choice == '0':\n",
        "    print('GoodBye! Go Pats')\n",
        "    break\n",
        "\n",
        "  if choice == '1' or '2' or '3':\n",
        "\n",
        "    print_menu(non_qb_stat_menu)\n",
        "\n",
        "    if choice == '1':\n",
        "      stat_col = input('Which stat column would you like to see?')\n",
        "      head_nums = input('How many players would you like to see?')\n",
        "      head_nums = int(head_nums)\n",
        "      print(rb_df[['Player', non_qb_stat_menu[int(stat_col)]]].head(head_nums))\n",
        "    if choice == '2':\n",
        "      stat_col = input('Which stat column would you like to see?')\n",
        "      head_nums = input('How many players would you like to see?')\n",
        "      head_nums = int(head_nums)\n",
        "      print(wr_df[['Player', non_qb_stat_menu[int(stat_col)]]].head(head_nums))\n",
        "    if choice == '3':\n",
        "      stat_col = input('Which stat column would you like to see?')\n",
        "      head_nums = input('How many players would you like to see?')\n",
        "      head_nums = int(head_nums)\n",
        "      print(te_df[['Player', non_qb_stat_menu[int(stat_col)]]].head(head_nums))\n",
        "\n",
        "  if choice =='5': #for scatter plot options\n",
        "    print_menu(stat_menu_all)\n",
        "    print('0:Quit 1: RB 2: WR 3: TE')\n",
        "    \n",
        "    pos_scatter = input('Which Position?')\n",
        "\n",
        "    if pos_scatter == '1': #Plots RB's\n",
        "      print_menu(non_qb_stat_menu)\n",
        "      inputone = input('Pick 1st Stat (x-axis)')\n",
        "      inputtwo = input('Pick 2nd Stat (y axis)')\n",
        "\n",
        "      inputone = non_qb_stat_menu[int(inputone)]\n",
        "      inputtwo = non_qb_stat_menu[int(inputtwo)]\n",
        "\n",
        "      rb_plot_as_scatter(inputone, inputtwo)\n",
        "      break\n",
        "    if pos_scatter == '2':  #Plots WR's\n",
        "      print_menu(non_qb_stat_menu)\n",
        "      inputone = input('Pick 1st Stat (x-axis)')\n",
        "      inputtwo = input('Pick 2nd Stat (y axis)')\n",
        "\n",
        "      inputone = non_qb_stat_menu[int(inputone)]\n",
        "      inputtwo = non_qb_stat_menu[int(inputtwo)]\n",
        "\n",
        "      wr_plot_as_scatter(inputone, inputtwo)\n",
        "      break\n",
        "      \n",
        "    if pos_scatter == '3':  #Plots TE's\n",
        "      print_menu(non_qb_stat_menu)\n",
        "      inputone = input('Pick 1st Stat (x-axis)')\n",
        "      inputtwo = input('Pick 2nd Stat (y axis)')\n",
        "\n",
        "      inputone = non_qb_stat_menu[int(inputone)]\n",
        "      inputtwo = non_qb_stat_menu[int(inputtwo)]\n",
        "\n",
        "      te_plot_as_scatter(inputone, inputtwo)\n",
        "      break\n",
        "        \n",
        "\n",
        "\n",
        "  \n",
        "\n",
        " \n",
        "  \n",
        "  \n"
      ],
      "execution_count": null,
      "outputs": []
    }
  ]
}