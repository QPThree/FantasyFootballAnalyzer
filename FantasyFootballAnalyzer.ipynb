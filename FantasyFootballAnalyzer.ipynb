{
  "nbformat": 4,
  "nbformat_minor": 0,
  "metadata": {
    "colab": {
      "name": "FantasyFootballAnalyzer.ipynb",
      "provenance": [],
      "collapsed_sections": [],
      "authorship_tag": "ABX9TyMSY4SfjtESgatLRyuI0iMX",
      "include_colab_link": true
    },
    "kernelspec": {
      "name": "python3",
      "display_name": "Python 3"
    },
    "language_info": {
      "name": "python"
    }
  },
  "cells": [
    {
      "cell_type": "markdown",
      "metadata": {
        "id": "view-in-github",
        "colab_type": "text"
      },
      "source": [
        "<a href=\"https://colab.research.google.com/github/QPThree/FantasyFootballAnalyzer/blob/main/FantasyFootballAnalyzer.ipynb\" target=\"_parent\"><img src=\"https://colab.research.google.com/assets/colab-badge.svg\" alt=\"Open In Colab\"/></a>"
      ]
    },
    {
      "cell_type": "code",
      "metadata": {
        "id": "CjnhGoaQPH3Q"
      },
      "source": [
        "import pandas as pd\n"
      ],
      "execution_count": 6,
      "outputs": []
    },
    {
      "cell_type": "code",
      "metadata": {
        "id": "6rk_YxkQ5FY5"
      },
      "source": [
        "#Creat data frames.  main and then each positions respective\n",
        "df = pd.read_csv('/content/PlayerStats2020.csv')\n",
        "rb_df = df.loc[df['Pos'] == 'RB'] #RB DataFrame\n",
        "wr_df = df.loc[df['Pos'] =='WR'] #WR DataFrame\n",
        "\n"
      ],
      "execution_count": 8,
      "outputs": []
    },
    {
      "cell_type": "code",
      "metadata": {
        "colab": {
          "base_uri": "https://localhost:8080/"
        },
        "id": "yumB9wCU8eh9",
        "outputId": "e12fc2ea-9fc3-48cb-89a8-071110452eb4"
      },
      "source": [
        "fantasy_scoring_weights = {\n",
        "    'RushingYds' : 0.1,\n",
        "    'ReceivingYds' : 0.1,\n",
        "    'ReceivingTD' : 6,\n",
        "    'RushingTD' : 6,\n",
        "    'FumblesLost' : -2,\n",
        "    'Rec' : 1,  # PPR, can be changed based on league settings\n",
        "}\n",
        "\n",
        "def get_fantasy_points(row):\n",
        "  g = row['G']\n",
        "\n",
        "  fantasy_points = sum(\n",
        "      [row[column] * weight for column, weight in fantasy_scoring_weights.items()]\n",
        "  )\n",
        "\n",
        "  return fantasy_points / g\n",
        "#creates columns for fantasy points per game in positional dataframes\n",
        "rb_df['FantasyPoints/G'] = rb_df.apply(get_fantasy_points, axis = 1)\n",
        "wr_df['FantasyPoints/G'] = wr_df.apply(get_fantasy_points, axis = 1)"
      ],
      "execution_count": 9,
      "outputs": [
        {
          "output_type": "stream",
          "text": [
            "/usr/local/lib/python3.7/dist-packages/ipykernel_launcher.py:19: SettingWithCopyWarning: \n",
            "A value is trying to be set on a copy of a slice from a DataFrame.\n",
            "Try using .loc[row_indexer,col_indexer] = value instead\n",
            "\n",
            "See the caveats in the documentation: https://pandas.pydata.org/pandas-docs/stable/user_guide/indexing.html#returning-a-view-versus-a-copy\n",
            "/usr/local/lib/python3.7/dist-packages/ipykernel_launcher.py:20: SettingWithCopyWarning: \n",
            "A value is trying to be set on a copy of a slice from a DataFrame.\n",
            "Try using .loc[row_indexer,col_indexer] = value instead\n",
            "\n",
            "See the caveats in the documentation: https://pandas.pydata.org/pandas-docs/stable/user_guide/indexing.html#returning-a-view-versus-a-copy\n"
          ],
          "name": "stderr"
        }
      ]
    },
    {
      "cell_type": "code",
      "metadata": {
        "colab": {
          "base_uri": "https://localhost:8080/"
        },
        "id": "A1lT1__7_inv",
        "outputId": "adfc8380-944c-46b7-e9d9-d927d8ca1890"
      },
      "source": [
        "#This can be deleted once done using\n",
        "\n",
        "for col in rb_df.columns:\n",
        "  print(col)"
      ],
      "execution_count": 10,
      "outputs": [
        {
          "output_type": "stream",
          "text": [
            "Player\n",
            "Tm\n",
            "Pos\n",
            "Age\n",
            "G\n",
            "GS\n",
            "Tgt\n",
            "Rec\n",
            "PassingYds\n",
            "PassingTD\n",
            "PassingAtt\n",
            "RushingYds\n",
            "RushingTD\n",
            "RushingAtt\n",
            "ReceivingYds\n",
            "ReceivingTD\n",
            "FantasyPoints\n",
            "Int\n",
            "Fumbles\n",
            "FumblesLost\n",
            "FantasyPoints/G\n"
          ],
          "name": "stdout"
        }
      ]
    },
    {
      "cell_type": "code",
      "metadata": {
        "colab": {
          "base_uri": "https://localhost:8080/"
        },
        "id": "aRvnB8Qq-rEi",
        "outputId": "b7e1f75a-1d60-4683-b39f-fb4ce08fac57"
      },
      "source": [
        "#delete unnessecary columns in positional data frames \n",
        "rb_df.drop(['GS', 'PassingYds', 'PassingTD', 'PassingAtt', 'Int'], axis = 1, inplace = True)\n",
        "wr_df.drop(['GS', 'PassingYds', 'PassingTD', 'PassingAtt', 'Int'], axis = 1, inplace = True)\n"
      ],
      "execution_count": 11,
      "outputs": [
        {
          "output_type": "stream",
          "text": [
            "/usr/local/lib/python3.7/dist-packages/pandas/core/frame.py:4174: SettingWithCopyWarning: \n",
            "A value is trying to be set on a copy of a slice from a DataFrame\n",
            "\n",
            "See the caveats in the documentation: https://pandas.pydata.org/pandas-docs/stable/user_guide/indexing.html#returning-a-view-versus-a-copy\n",
            "  errors=errors,\n"
          ],
          "name": "stderr"
        }
      ]
    },
    {
      "cell_type": "code",
      "metadata": {
        "colab": {
          "base_uri": "https://localhost:8080/",
          "height": 1000
        },
        "id": "shKpWfW35hWP",
        "outputId": "1596efa5-fe31-48e2-8f8d-1aa4d894ea2c"
      },
      "source": [
        "# Lists for menus\n",
        "stat_menu = ('Tm',\n",
        "'Pos',\n",
        "'Age',\n",
        "'G',\n",
        "'GS',\n",
        "'Tgt',\n",
        "'Rec',\n",
        "'PassingYds',\n",
        "'PassingTD',\n",
        "'PassingAtt',\n",
        "'RushingYds',\n",
        "'RushingTD',\n",
        "'RushingAtt',\n",
        "'ReceivingYds',\n",
        "'ReceivingTD',\n",
        "'FantasyPoints',\n",
        "'Int',\n",
        "'Fumbles',\n",
        "'FumblesLost',\n",
        "'FantasyPoints/G')\n",
        "\n",
        "pos_menu = (\n",
        "    'Quit',\n",
        "    'RB',\n",
        "    'WR'\n",
        ")\n",
        "\n",
        "choice = True\n",
        "while choice:\n",
        "  i = 0\n",
        "  for position in pos_menu:\n",
        "    print(str(i)+': '+position)\n",
        "    i = i+1\n",
        "  choice = input('What position would you like to view?')\n",
        "  i = 0\n",
        "  for stat in stat_menu:\n",
        "    print(str(i)+': '+stat)\n",
        "    i = i+1\n",
        "  stat_col = input('Which stat column would you like to see?')\n",
        "  head_nums = input('How many players would you like to see?')\n",
        "  head_nums = int(head_nums)\n",
        "\n",
        "#########################Next we will add diplsay options so user can see what stat columns they can choose from....e.g. rushing attempts, rushing td, receptions, etc. \n",
        "  if choice == '0':\n",
        "    print('GoodBye! Go Pats')\n",
        "    break\n",
        "  if choice == '1':\n",
        "    print(rb_df[['Player', stat_menu[int(stat_col)]]].head(head_nums))\n",
        "  if choice == '2':\n",
        "    print(wr_df[['Player', stat_menu[int(stat_col)]]].head(head_nums))\n"
      ],
      "execution_count": 37,
      "outputs": [
        {
          "output_type": "stream",
          "text": [
            "0: Quit\n",
            "1: RB\n",
            "2: WR\n",
            "What position would you like to view?2\n",
            "0: Tm\n",
            "1: Pos\n",
            "2: Age\n",
            "3: G\n",
            "4: GS\n",
            "5: Tgt\n",
            "6: Rec\n",
            "7: PassingYds\n",
            "8: PassingTD\n",
            "9: PassingAtt\n",
            "10: RushingYds\n",
            "11: RushingTD\n",
            "12: RushingAtt\n",
            "13: ReceivingYds\n",
            "14: ReceivingTD\n",
            "15: FantasyPoints\n",
            "16: Int\n",
            "17: Fumbles\n",
            "18: FumblesLost\n",
            "19: FantasyPoints/G\n",
            "Which stat column would you like to see?5\n",
            "How many players would you like to see?15\n",
            "              Player  Tgt\n",
            "3      Davante Adams  149\n",
            "5        Tyreek Hill  135\n",
            "16      Stefon Diggs  166\n",
            "19     Calvin Ridley  143\n",
            "20      D.K. Metcalf  129\n",
            "23  Justin Jefferson  125\n",
            "25      Adam Thielen  108\n",
            "26        Mike Evans  109\n",
            "27        A.J. Brown  106\n",
            "31   DeAndre Hopkins  160\n",
            "33     Tyler Lockett  132\n",
            "37    Allen Robinson  151\n",
            "39      Robert Woods  129\n",
            "41    Chase Claypool  109\n",
            "42      Marvin Jones  115\n",
            "0: Quit\n",
            "1: RB\n",
            "2: WR\n"
          ],
          "name": "stdout"
        },
        {
          "output_type": "error",
          "ename": "KeyboardInterrupt",
          "evalue": "ignored",
          "traceback": [
            "\u001b[0;31m---------------------------------------------------------------------------\u001b[0m",
            "\u001b[0;31mKeyboardInterrupt\u001b[0m                         Traceback (most recent call last)",
            "\u001b[0;32m/usr/local/lib/python3.7/dist-packages/ipykernel/kernelbase.py\u001b[0m in \u001b[0;36m_input_request\u001b[0;34m(self, prompt, ident, parent, password)\u001b[0m\n\u001b[1;32m    728\u001b[0m             \u001b[0;32mtry\u001b[0m\u001b[0;34m:\u001b[0m\u001b[0;34m\u001b[0m\u001b[0;34m\u001b[0m\u001b[0m\n\u001b[0;32m--> 729\u001b[0;31m                 \u001b[0mident\u001b[0m\u001b[0;34m,\u001b[0m \u001b[0mreply\u001b[0m \u001b[0;34m=\u001b[0m \u001b[0mself\u001b[0m\u001b[0;34m.\u001b[0m\u001b[0msession\u001b[0m\u001b[0;34m.\u001b[0m\u001b[0mrecv\u001b[0m\u001b[0;34m(\u001b[0m\u001b[0mself\u001b[0m\u001b[0;34m.\u001b[0m\u001b[0mstdin_socket\u001b[0m\u001b[0;34m,\u001b[0m \u001b[0;36m0\u001b[0m\u001b[0;34m)\u001b[0m\u001b[0;34m\u001b[0m\u001b[0;34m\u001b[0m\u001b[0m\n\u001b[0m\u001b[1;32m    730\u001b[0m             \u001b[0;32mexcept\u001b[0m \u001b[0mException\u001b[0m\u001b[0;34m:\u001b[0m\u001b[0;34m\u001b[0m\u001b[0;34m\u001b[0m\u001b[0m\n",
            "\u001b[0;32m/usr/local/lib/python3.7/dist-packages/jupyter_client/session.py\u001b[0m in \u001b[0;36mrecv\u001b[0;34m(self, socket, mode, content, copy)\u001b[0m\n\u001b[1;32m    802\u001b[0m         \u001b[0;32mtry\u001b[0m\u001b[0;34m:\u001b[0m\u001b[0;34m\u001b[0m\u001b[0;34m\u001b[0m\u001b[0m\n\u001b[0;32m--> 803\u001b[0;31m             \u001b[0mmsg_list\u001b[0m \u001b[0;34m=\u001b[0m \u001b[0msocket\u001b[0m\u001b[0;34m.\u001b[0m\u001b[0mrecv_multipart\u001b[0m\u001b[0;34m(\u001b[0m\u001b[0mmode\u001b[0m\u001b[0;34m,\u001b[0m \u001b[0mcopy\u001b[0m\u001b[0;34m=\u001b[0m\u001b[0mcopy\u001b[0m\u001b[0;34m)\u001b[0m\u001b[0;34m\u001b[0m\u001b[0;34m\u001b[0m\u001b[0m\n\u001b[0m\u001b[1;32m    804\u001b[0m         \u001b[0;32mexcept\u001b[0m \u001b[0mzmq\u001b[0m\u001b[0;34m.\u001b[0m\u001b[0mZMQError\u001b[0m \u001b[0;32mas\u001b[0m \u001b[0me\u001b[0m\u001b[0;34m:\u001b[0m\u001b[0;34m\u001b[0m\u001b[0;34m\u001b[0m\u001b[0m\n",
            "\u001b[0;32m/usr/local/lib/python3.7/dist-packages/zmq/sugar/socket.py\u001b[0m in \u001b[0;36mrecv_multipart\u001b[0;34m(self, flags, copy, track)\u001b[0m\n\u001b[1;32m    582\u001b[0m         \"\"\"\n\u001b[0;32m--> 583\u001b[0;31m         \u001b[0mparts\u001b[0m \u001b[0;34m=\u001b[0m \u001b[0;34m[\u001b[0m\u001b[0mself\u001b[0m\u001b[0;34m.\u001b[0m\u001b[0mrecv\u001b[0m\u001b[0;34m(\u001b[0m\u001b[0mflags\u001b[0m\u001b[0;34m,\u001b[0m \u001b[0mcopy\u001b[0m\u001b[0;34m=\u001b[0m\u001b[0mcopy\u001b[0m\u001b[0;34m,\u001b[0m \u001b[0mtrack\u001b[0m\u001b[0;34m=\u001b[0m\u001b[0mtrack\u001b[0m\u001b[0;34m)\u001b[0m\u001b[0;34m]\u001b[0m\u001b[0;34m\u001b[0m\u001b[0;34m\u001b[0m\u001b[0m\n\u001b[0m\u001b[1;32m    584\u001b[0m         \u001b[0;31m# have first part already, only loop while more to receive\u001b[0m\u001b[0;34m\u001b[0m\u001b[0;34m\u001b[0m\u001b[0;34m\u001b[0m\u001b[0m\n",
            "\u001b[0;32mzmq/backend/cython/socket.pyx\u001b[0m in \u001b[0;36mzmq.backend.cython.socket.Socket.recv\u001b[0;34m()\u001b[0m\n",
            "\u001b[0;32mzmq/backend/cython/socket.pyx\u001b[0m in \u001b[0;36mzmq.backend.cython.socket.Socket.recv\u001b[0;34m()\u001b[0m\n",
            "\u001b[0;32mzmq/backend/cython/socket.pyx\u001b[0m in \u001b[0;36mzmq.backend.cython.socket._recv_copy\u001b[0;34m()\u001b[0m\n",
            "\u001b[0;32m/usr/local/lib/python3.7/dist-packages/zmq/backend/cython/checkrc.pxd\u001b[0m in \u001b[0;36mzmq.backend.cython.checkrc._check_rc\u001b[0;34m()\u001b[0m\n",
            "\u001b[0;31mKeyboardInterrupt\u001b[0m: ",
            "\nDuring handling of the above exception, another exception occurred:\n",
            "\u001b[0;31mKeyboardInterrupt\u001b[0m                         Traceback (most recent call last)",
            "\u001b[0;32m<ipython-input-37-d2d78488ba03>\u001b[0m in \u001b[0;36m<module>\u001b[0;34m()\u001b[0m\n\u001b[1;32m     33\u001b[0m     \u001b[0mprint\u001b[0m\u001b[0;34m(\u001b[0m\u001b[0mstr\u001b[0m\u001b[0;34m(\u001b[0m\u001b[0mi\u001b[0m\u001b[0;34m)\u001b[0m\u001b[0;34m+\u001b[0m\u001b[0;34m': '\u001b[0m\u001b[0;34m+\u001b[0m\u001b[0mposition\u001b[0m\u001b[0;34m)\u001b[0m\u001b[0;34m\u001b[0m\u001b[0;34m\u001b[0m\u001b[0m\n\u001b[1;32m     34\u001b[0m     \u001b[0mi\u001b[0m \u001b[0;34m=\u001b[0m \u001b[0mi\u001b[0m\u001b[0;34m+\u001b[0m\u001b[0;36m1\u001b[0m\u001b[0;34m\u001b[0m\u001b[0;34m\u001b[0m\u001b[0m\n\u001b[0;32m---> 35\u001b[0;31m   \u001b[0mchoice\u001b[0m \u001b[0;34m=\u001b[0m \u001b[0minput\u001b[0m\u001b[0;34m(\u001b[0m\u001b[0;34m'What position would you like to view?'\u001b[0m\u001b[0;34m)\u001b[0m\u001b[0;34m\u001b[0m\u001b[0;34m\u001b[0m\u001b[0m\n\u001b[0m\u001b[1;32m     36\u001b[0m   \u001b[0mi\u001b[0m \u001b[0;34m=\u001b[0m \u001b[0;36m0\u001b[0m\u001b[0;34m\u001b[0m\u001b[0;34m\u001b[0m\u001b[0m\n\u001b[1;32m     37\u001b[0m   \u001b[0;32mfor\u001b[0m \u001b[0mstat\u001b[0m \u001b[0;32min\u001b[0m \u001b[0mstat_menu\u001b[0m\u001b[0;34m:\u001b[0m\u001b[0;34m\u001b[0m\u001b[0;34m\u001b[0m\u001b[0m\n",
            "\u001b[0;32m/usr/local/lib/python3.7/dist-packages/ipykernel/kernelbase.py\u001b[0m in \u001b[0;36mraw_input\u001b[0;34m(self, prompt)\u001b[0m\n\u001b[1;32m    702\u001b[0m             \u001b[0mself\u001b[0m\u001b[0;34m.\u001b[0m\u001b[0m_parent_ident\u001b[0m\u001b[0;34m,\u001b[0m\u001b[0;34m\u001b[0m\u001b[0;34m\u001b[0m\u001b[0m\n\u001b[1;32m    703\u001b[0m             \u001b[0mself\u001b[0m\u001b[0;34m.\u001b[0m\u001b[0m_parent_header\u001b[0m\u001b[0;34m,\u001b[0m\u001b[0;34m\u001b[0m\u001b[0;34m\u001b[0m\u001b[0m\n\u001b[0;32m--> 704\u001b[0;31m             \u001b[0mpassword\u001b[0m\u001b[0;34m=\u001b[0m\u001b[0;32mFalse\u001b[0m\u001b[0;34m,\u001b[0m\u001b[0;34m\u001b[0m\u001b[0;34m\u001b[0m\u001b[0m\n\u001b[0m\u001b[1;32m    705\u001b[0m         )\n\u001b[1;32m    706\u001b[0m \u001b[0;34m\u001b[0m\u001b[0m\n",
            "\u001b[0;32m/usr/local/lib/python3.7/dist-packages/ipykernel/kernelbase.py\u001b[0m in \u001b[0;36m_input_request\u001b[0;34m(self, prompt, ident, parent, password)\u001b[0m\n\u001b[1;32m    732\u001b[0m             \u001b[0;32mexcept\u001b[0m \u001b[0mKeyboardInterrupt\u001b[0m\u001b[0;34m:\u001b[0m\u001b[0;34m\u001b[0m\u001b[0;34m\u001b[0m\u001b[0m\n\u001b[1;32m    733\u001b[0m                 \u001b[0;31m# re-raise KeyboardInterrupt, to truncate traceback\u001b[0m\u001b[0;34m\u001b[0m\u001b[0;34m\u001b[0m\u001b[0;34m\u001b[0m\u001b[0m\n\u001b[0;32m--> 734\u001b[0;31m                 \u001b[0;32mraise\u001b[0m \u001b[0mKeyboardInterrupt\u001b[0m\u001b[0;34m\u001b[0m\u001b[0;34m\u001b[0m\u001b[0m\n\u001b[0m\u001b[1;32m    735\u001b[0m             \u001b[0;32melse\u001b[0m\u001b[0;34m:\u001b[0m\u001b[0;34m\u001b[0m\u001b[0;34m\u001b[0m\u001b[0m\n\u001b[1;32m    736\u001b[0m                 \u001b[0;32mbreak\u001b[0m\u001b[0;34m\u001b[0m\u001b[0;34m\u001b[0m\u001b[0m\n",
            "\u001b[0;31mKeyboardInterrupt\u001b[0m: "
          ]
        }
      ]
    }
  ]
}